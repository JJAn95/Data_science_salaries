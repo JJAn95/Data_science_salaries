{
 "cells": [
  {
   "cell_type": "markdown",
   "id": "c5f1f2fc",
   "metadata": {},
   "source": [
    "# Практическая работа 1"
   ]
  },
  {
   "cell_type": "markdown",
   "id": "129b0565",
   "metadata": {},
   "source": [
    "## Цель работы"
   ]
  },
  {
   "cell_type": "markdown",
   "id": "de84090b",
   "metadata": {},
   "source": [
    "Провести анализ выбранного датасета и выявить интересные и возможные зависимости/закономернсоти в данных."
   ]
  },
  {
   "cell_type": "markdown",
   "id": "fc072e42",
   "metadata": {},
   "source": [
    "## Задачаи|"
   ]
  },
  {
   "cell_type": "markdown",
   "id": "9d2f5d08",
   "metadata": {},
   "source": [
    "1. Провести исследование выбранного датасета\n",
    "2. Использовать полученные знания для статистического анализа данных"
   ]
  },
  {
   "cell_type": "markdown",
   "id": "bb652f9d",
   "metadata": {},
   "source": [
    "## Описание датасета"
   ]
  },
  {
   "cell_type": "markdown",
   "id": "b12d3a84",
   "metadata": {},
   "source": [
    "В нашем распоряжении данные, взятые с kaggle.com — зарплаты за период 2020-2022гг в сфере Data Science. В датасете выделены 11 стобцов:\n",
    "- work_year - год выплаты зарплаты\n",
    "- experience_level - уровень опыта работы в течение года, где EN Начальный уровень / MI Мидл / SE Сеньёр / EX Профи\n",
    "- employment_type - Тип занятости на роль, где: PT Неполный рабочий день / FT Полный рабочий день / CT Контракт / FL Фриланс\n",
    "- job_title\t- Точное название роли\n",
    "- salary - Величина зарплаты (евро или доллар)\n",
    "- salary_currency - Валюта выплачиваемой заработной платы\n",
    "- salaryinusd - Заработная плата в долларах США (курс валюты, разделенный на средний курс доллара США за соответствующий год через fxdata.foorilla.com\n",
    "- employee_residence - Основная страна проживания сотрудника в течение рабочего года в виде кода страны ISO 3166.\n",
    "- remote_ratio - Общий объем удаленной работы, где: 0 Нет удаленной работы ( или менее 20%), 50 Частично удаленная работа, 100 Полностью удаленная работа (или более 80%)\n",
    "- company_location - Страна главного офиса или филиала работодателя тоже в виде кода страны ISO 3166.\n",
    "- company_size - Среднее количество людей, работавших в компании в течение года: S менее 50 сотрудников, M от 50 до 250 сотрудников, L более 250 сотрудников"
   ]
  },
  {
   "cell_type": "markdown",
   "id": "823bf125",
   "metadata": {},
   "source": [
    "## Изучение данных из файла"
   ]
  },
  {
   "cell_type": "code",
   "execution_count": 211,
   "id": "7f0c65c6",
   "metadata": {},
   "outputs": [],
   "source": [
    "# Импорт библиотек\n",
    "import pandas as pd\n",
    "import matplotlib.pyplot as plt\n",
    "import numpy as np"
   ]
  },
  {
   "cell_type": "code",
   "execution_count": 212,
   "id": "15c3ca0d",
   "metadata": {},
   "outputs": [
    {
     "data": {
      "text/html": [
       "<div>\n",
       "<style scoped>\n",
       "    .dataframe tbody tr th:only-of-type {\n",
       "        vertical-align: middle;\n",
       "    }\n",
       "\n",
       "    .dataframe tbody tr th {\n",
       "        vertical-align: top;\n",
       "    }\n",
       "\n",
       "    .dataframe thead th {\n",
       "        text-align: right;\n",
       "    }\n",
       "</style>\n",
       "<table border=\"1\" class=\"dataframe\">\n",
       "  <thead>\n",
       "    <tr style=\"text-align: right;\">\n",
       "      <th></th>\n",
       "      <th>Unnamed: 0</th>\n",
       "      <th>work_year</th>\n",
       "      <th>experience_level</th>\n",
       "      <th>employment_type</th>\n",
       "      <th>job_title</th>\n",
       "      <th>salary</th>\n",
       "      <th>salary_currency</th>\n",
       "      <th>salary_in_usd</th>\n",
       "      <th>employee_residence</th>\n",
       "      <th>remote_ratio</th>\n",
       "      <th>company_location</th>\n",
       "      <th>company_size</th>\n",
       "    </tr>\n",
       "  </thead>\n",
       "  <tbody>\n",
       "    <tr>\n",
       "      <th>0</th>\n",
       "      <td>0</td>\n",
       "      <td>2020</td>\n",
       "      <td>MI</td>\n",
       "      <td>FT</td>\n",
       "      <td>Data Scientist</td>\n",
       "      <td>70000</td>\n",
       "      <td>EUR</td>\n",
       "      <td>79833</td>\n",
       "      <td>DE</td>\n",
       "      <td>0</td>\n",
       "      <td>DE</td>\n",
       "      <td>L</td>\n",
       "    </tr>\n",
       "    <tr>\n",
       "      <th>1</th>\n",
       "      <td>1</td>\n",
       "      <td>2020</td>\n",
       "      <td>SE</td>\n",
       "      <td>FT</td>\n",
       "      <td>Machine Learning Scientist</td>\n",
       "      <td>260000</td>\n",
       "      <td>USD</td>\n",
       "      <td>260000</td>\n",
       "      <td>JP</td>\n",
       "      <td>0</td>\n",
       "      <td>JP</td>\n",
       "      <td>S</td>\n",
       "    </tr>\n",
       "    <tr>\n",
       "      <th>2</th>\n",
       "      <td>2</td>\n",
       "      <td>2020</td>\n",
       "      <td>SE</td>\n",
       "      <td>FT</td>\n",
       "      <td>Big Data Engineer</td>\n",
       "      <td>85000</td>\n",
       "      <td>GBP</td>\n",
       "      <td>109024</td>\n",
       "      <td>GB</td>\n",
       "      <td>50</td>\n",
       "      <td>GB</td>\n",
       "      <td>M</td>\n",
       "    </tr>\n",
       "    <tr>\n",
       "      <th>3</th>\n",
       "      <td>3</td>\n",
       "      <td>2020</td>\n",
       "      <td>MI</td>\n",
       "      <td>FT</td>\n",
       "      <td>Product Data Analyst</td>\n",
       "      <td>20000</td>\n",
       "      <td>USD</td>\n",
       "      <td>20000</td>\n",
       "      <td>HN</td>\n",
       "      <td>0</td>\n",
       "      <td>HN</td>\n",
       "      <td>S</td>\n",
       "    </tr>\n",
       "    <tr>\n",
       "      <th>4</th>\n",
       "      <td>4</td>\n",
       "      <td>2020</td>\n",
       "      <td>SE</td>\n",
       "      <td>FT</td>\n",
       "      <td>Machine Learning Engineer</td>\n",
       "      <td>150000</td>\n",
       "      <td>USD</td>\n",
       "      <td>150000</td>\n",
       "      <td>US</td>\n",
       "      <td>50</td>\n",
       "      <td>US</td>\n",
       "      <td>L</td>\n",
       "    </tr>\n",
       "    <tr>\n",
       "      <th>5</th>\n",
       "      <td>5</td>\n",
       "      <td>2020</td>\n",
       "      <td>EN</td>\n",
       "      <td>FT</td>\n",
       "      <td>Data Analyst</td>\n",
       "      <td>72000</td>\n",
       "      <td>USD</td>\n",
       "      <td>72000</td>\n",
       "      <td>US</td>\n",
       "      <td>100</td>\n",
       "      <td>US</td>\n",
       "      <td>L</td>\n",
       "    </tr>\n",
       "    <tr>\n",
       "      <th>6</th>\n",
       "      <td>6</td>\n",
       "      <td>2020</td>\n",
       "      <td>SE</td>\n",
       "      <td>FT</td>\n",
       "      <td>Lead Data Scientist</td>\n",
       "      <td>190000</td>\n",
       "      <td>USD</td>\n",
       "      <td>190000</td>\n",
       "      <td>US</td>\n",
       "      <td>100</td>\n",
       "      <td>US</td>\n",
       "      <td>S</td>\n",
       "    </tr>\n",
       "    <tr>\n",
       "      <th>7</th>\n",
       "      <td>7</td>\n",
       "      <td>2020</td>\n",
       "      <td>MI</td>\n",
       "      <td>FT</td>\n",
       "      <td>Data Scientist</td>\n",
       "      <td>11000000</td>\n",
       "      <td>HUF</td>\n",
       "      <td>35735</td>\n",
       "      <td>HU</td>\n",
       "      <td>50</td>\n",
       "      <td>HU</td>\n",
       "      <td>L</td>\n",
       "    </tr>\n",
       "    <tr>\n",
       "      <th>8</th>\n",
       "      <td>8</td>\n",
       "      <td>2020</td>\n",
       "      <td>MI</td>\n",
       "      <td>FT</td>\n",
       "      <td>Business Data Analyst</td>\n",
       "      <td>135000</td>\n",
       "      <td>USD</td>\n",
       "      <td>135000</td>\n",
       "      <td>US</td>\n",
       "      <td>100</td>\n",
       "      <td>US</td>\n",
       "      <td>L</td>\n",
       "    </tr>\n",
       "    <tr>\n",
       "      <th>9</th>\n",
       "      <td>9</td>\n",
       "      <td>2020</td>\n",
       "      <td>SE</td>\n",
       "      <td>FT</td>\n",
       "      <td>Lead Data Engineer</td>\n",
       "      <td>125000</td>\n",
       "      <td>USD</td>\n",
       "      <td>125000</td>\n",
       "      <td>NZ</td>\n",
       "      <td>50</td>\n",
       "      <td>NZ</td>\n",
       "      <td>S</td>\n",
       "    </tr>\n",
       "    <tr>\n",
       "      <th>10</th>\n",
       "      <td>10</td>\n",
       "      <td>2020</td>\n",
       "      <td>EN</td>\n",
       "      <td>FT</td>\n",
       "      <td>Data Scientist</td>\n",
       "      <td>45000</td>\n",
       "      <td>EUR</td>\n",
       "      <td>51321</td>\n",
       "      <td>FR</td>\n",
       "      <td>0</td>\n",
       "      <td>FR</td>\n",
       "      <td>S</td>\n",
       "    </tr>\n",
       "  </tbody>\n",
       "</table>\n",
       "</div>"
      ],
      "text/plain": [
       "    Unnamed: 0  work_year experience_level employment_type  \\\n",
       "0            0       2020               MI              FT   \n",
       "1            1       2020               SE              FT   \n",
       "2            2       2020               SE              FT   \n",
       "3            3       2020               MI              FT   \n",
       "4            4       2020               SE              FT   \n",
       "5            5       2020               EN              FT   \n",
       "6            6       2020               SE              FT   \n",
       "7            7       2020               MI              FT   \n",
       "8            8       2020               MI              FT   \n",
       "9            9       2020               SE              FT   \n",
       "10          10       2020               EN              FT   \n",
       "\n",
       "                     job_title    salary salary_currency  salary_in_usd  \\\n",
       "0               Data Scientist     70000             EUR          79833   \n",
       "1   Machine Learning Scientist    260000             USD         260000   \n",
       "2            Big Data Engineer     85000             GBP         109024   \n",
       "3         Product Data Analyst     20000             USD          20000   \n",
       "4    Machine Learning Engineer    150000             USD         150000   \n",
       "5                 Data Analyst     72000             USD          72000   \n",
       "6          Lead Data Scientist    190000             USD         190000   \n",
       "7               Data Scientist  11000000             HUF          35735   \n",
       "8        Business Data Analyst    135000             USD         135000   \n",
       "9           Lead Data Engineer    125000             USD         125000   \n",
       "10              Data Scientist     45000             EUR          51321   \n",
       "\n",
       "   employee_residence  remote_ratio company_location company_size  \n",
       "0                  DE             0               DE            L  \n",
       "1                  JP             0               JP            S  \n",
       "2                  GB            50               GB            M  \n",
       "3                  HN             0               HN            S  \n",
       "4                  US            50               US            L  \n",
       "5                  US           100               US            L  \n",
       "6                  US           100               US            S  \n",
       "7                  HU            50               HU            L  \n",
       "8                  US           100               US            L  \n",
       "9                  NZ            50               NZ            S  \n",
       "10                 FR             0               FR            S  "
      ]
     },
     "execution_count": 212,
     "metadata": {},
     "output_type": "execute_result"
    }
   ],
   "source": [
    "# Чтение нашего датасета с коренвой папки, где находится и исполняемый файл\n",
    "data = pd.read_csv('ds_salaries.csv')\n",
    "# Смотрим первые 11 строк\n",
    "data.head(11)"
   ]
  },
  {
   "cell_type": "code",
   "execution_count": 213,
   "id": "cf10759a",
   "metadata": {},
   "outputs": [
    {
     "data": {
      "text/plain": [
       "(607, 12)"
      ]
     },
     "execution_count": 213,
     "metadata": {},
     "output_type": "execute_result"
    }
   ],
   "source": [
    "# смотрим размерность датасета\n",
    "data.shape"
   ]
  },
  {
   "cell_type": "markdown",
   "id": "fd8a9f02",
   "metadata": {},
   "source": [
    "Датасет отобразился корректно. У нас 607 значений и 11 колонок, как и было первоначально заявлено + 1 колонка, дублирующая индексы. Удалим эту дублирующую колонку, а также изучим датасет чуть детальнее."
   ]
  },
  {
   "cell_type": "code",
   "execution_count": 214,
   "id": "53d66e30",
   "metadata": {},
   "outputs": [],
   "source": [
    "# Удаление лишней колонки\n",
    "del data['Unnamed: 0']\n",
    "# data.head(11)"
   ]
  },
  {
   "cell_type": "code",
   "execution_count": 215,
   "id": "485344e0",
   "metadata": {},
   "outputs": [
    {
     "name": "stdout",
     "output_type": "stream",
     "text": [
      "<class 'pandas.core.frame.DataFrame'>\n",
      "RangeIndex: 607 entries, 0 to 606\n",
      "Data columns (total 11 columns):\n",
      " #   Column              Non-Null Count  Dtype \n",
      "---  ------              --------------  ----- \n",
      " 0   work_year           607 non-null    int64 \n",
      " 1   experience_level    607 non-null    object\n",
      " 2   employment_type     607 non-null    object\n",
      " 3   job_title           607 non-null    object\n",
      " 4   salary              607 non-null    int64 \n",
      " 5   salary_currency     607 non-null    object\n",
      " 6   salary_in_usd       607 non-null    int64 \n",
      " 7   employee_residence  607 non-null    object\n",
      " 8   remote_ratio        607 non-null    int64 \n",
      " 9   company_location    607 non-null    object\n",
      " 10  company_size        607 non-null    object\n",
      "dtypes: int64(4), object(7)\n",
      "memory usage: 52.3+ KB\n"
     ]
    }
   ],
   "source": [
    "# Смотрим общие характеристики по нашему датасету\n",
    "data.info()"
   ]
  },
  {
   "cell_type": "markdown",
   "id": "3b6aefc1",
   "metadata": {},
   "source": [
    "Судя по всему, нам повезло, пропусков нет. Все типы данных для каждой колонки определнны верно, т.е. где предполагаем увидеть целое число у нас тип данных целого числа(int64), а где строковое значение - там тип object. И на всякий случай, убедимся в отсутствии пропусков по каждой категории, применив метод, определяющий наличие пропуска \"isna()\" и просуммируем методом \"sum()\". Каждый пропуск дает значение единицы, просуммировав все единицы, мы можем получить количество пропусков в каждом столбце."
   ]
  },
  {
   "cell_type": "code",
   "execution_count": 216,
   "id": "b7d8ca3d",
   "metadata": {
    "direction": "ltr"
   },
   "outputs": [
    {
     "data": {
      "text/plain": [
       "work_year             0\n",
       "experience_level      0\n",
       "employment_type       0\n",
       "job_title             0\n",
       "salary                0\n",
       "salary_currency       0\n",
       "salary_in_usd         0\n",
       "employee_residence    0\n",
       "remote_ratio          0\n",
       "company_location      0\n",
       "company_size          0\n",
       "dtype: int64"
      ]
     },
     "execution_count": 216,
     "metadata": {},
     "output_type": "execute_result"
    }
   ],
   "source": [
    "data.isna().sum()"
   ]
  },
  {
   "cell_type": "markdown",
   "id": "a7b6fbfb",
   "metadata": {},
   "source": [
    "Все верно, пропусков нет.\n",
    "\n",
    "Итак, думать, что делать с пропусками нами не придется, ввиду их отсутствия, типы данных все заявлены верно и наш датасет не требует добавления и/или изменения значение или тип значение какого-либо столбца. Но не исключено, что нам это потребуется при более конкретном исследовании гипотез."
   ]
  },
  {
   "cell_type": "markdown",
   "id": "25848036",
   "metadata": {},
   "source": [
    "## Исследование 1"
   ]
  },
  {
   "cell_type": "markdown",
   "id": "52a6ca4e",
   "metadata": {},
   "source": [
    "### Выявляем самые популярные роли в сфере датасаенс"
   ]
  },
  {
   "cell_type": "markdown",
   "id": "1dba0231",
   "metadata": {},
   "source": [
    "Первым, что приходит в голову и что становится интересно - это посмотреть есть ли у нас какие-то фавориты в ролях из сферы дата саенс.\n",
    "\n",
    "Используем встроенный метод для получения датасета по заданной колонке с подсчетом всех уникальных значений в ней и подсчетом повторений по убыванию. Другими словами получаем частотную таблицу."
   ]
  },
  {
   "cell_type": "code",
   "execution_count": 217,
   "id": "0a354e98",
   "metadata": {},
   "outputs": [
    {
     "data": {
      "text/plain": [
       "Data Scientist               143\n",
       "Data Engineer                132\n",
       "Data Analyst                  97\n",
       "Machine Learning Engineer     41\n",
       "Research Scientist            16\n",
       "Data Science Manager          12\n",
       "Data Architect                11\n",
       "Name: job_title, dtype: int64"
      ]
     },
     "execution_count": 217,
     "metadata": {},
     "output_type": "execute_result"
    }
   ],
   "source": [
    "data['job_title'].value_counts().head(7)"
   ]
  },
  {
   "cell_type": "markdown",
   "id": "c5c00f2c",
   "metadata": {},
   "source": [
    "Получили 50 различных значений. и есть 5 явных лидера, как: Data Scientist, Data Engineer и Data Analyst, Machine Learning Engineer, Research Scientist  и так далее. Остальные роли достаточно редки и уникальны.\n",
    "\n",
    "Думаю есть смысл рассмотреть только первые 3-4 роли. Для этого создадим отдельную таблицу data_top4, куда включим только строки, где job_title равен одной из ролей из нашего \"топ4\"."
   ]
  },
  {
   "cell_type": "code",
   "execution_count": 218,
   "id": "c0711792",
   "metadata": {},
   "outputs": [],
   "source": [
    "data_top4 = data[(data['job_title'] == 'Data Scientist') |\n",
    "                 (data['job_title'] == 'Data Engineer') |\n",
    "                (data['job_title'] == 'Data Analyst') |\n",
    "                (data['job_title'] == 'Machine Learning Engineer')]"
   ]
  },
  {
   "cell_type": "markdown",
   "id": "ff8031ef",
   "metadata": {},
   "source": [
    "Теперь посмотрим на диаграмму размаха, чтобы узнать все ли значения у нас входят в доверительный интервал или все же есть некоторые выбросы. Сделаем это с помощью функции boxplot."
   ]
  },
  {
   "cell_type": "code",
   "execution_count": 219,
   "id": "dd8a3929",
   "metadata": {},
   "outputs": [
    {
     "data": {
      "text/plain": [
       "{'whiskers': [<matplotlib.lines.Line2D at 0x7fbb0b2e5190>,\n",
       "  <matplotlib.lines.Line2D at 0x7fbb0b2e5460>],\n",
       " 'caps': [<matplotlib.lines.Line2D at 0x7fbb0b2e5730>,\n",
       "  <matplotlib.lines.Line2D at 0x7fbb0b2e5a00>],\n",
       " 'boxes': [<matplotlib.lines.Line2D at 0x7fbb0b2cbe80>],\n",
       " 'medians': [<matplotlib.lines.Line2D at 0x7fbb0b2e5cd0>],\n",
       " 'fliers': [<matplotlib.lines.Line2D at 0x7fbb0b2e5fa0>],\n",
       " 'means': []}"
      ]
     },
     "execution_count": 219,
     "metadata": {},
     "output_type": "execute_result"
    },
    {
     "data": {
      "image/png": "[encoded data removed]",
      "text/plain": [
       "<Figure size 432x288 with 1 Axes>"
      ]
     },
     "metadata": {
      "needs_background": "light"
     },
     "output_type": "display_data"
    }
   ],
   "source": [
    "plt.boxplot(x=data_top4['salary_in_usd'])"
   ]
  },
  {
   "cell_type": "markdown",
   "id": "0acfcb48",
   "metadata": {},
   "source": [
    "Большинство данных лежит в пределах \"усов\", есть только три значения, которые прям выбивается за \"усы\". Рассчитаем интерквартильный размах и определим верхнюю, границу, чтобы понять, какие 3 значения нам лучше не учитывать. Используем функцию из библиотеки numpyдля поиска 25 и 75 персентиля."
   ]
  },
  {
   "cell_type": "code",
   "execution_count": 220,
   "id": "52348f15",
   "metadata": {},
   "outputs": [],
   "source": [
    "# data_top4['salary_in_usd'].describe()\n",
    "irt = np.percentile(data_top4['salary_in_usd'], 75) - np.percentile(data_top4['salary_in_usd'], 25)"
   ]
  },
  {
   "cell_type": "markdown",
   "id": "3d295641",
   "metadata": {},
   "source": [
    "Так как исходя из боксплота видим, что ниже \"усов\" у нас нет выбросов, то найти можно только верхнюю границу: 75 персентиль + 1.5 межквартильного размаха."
   ]
  },
  {
   "cell_type": "code",
   "execution_count": 221,
   "id": "91f55ca9",
   "metadata": {},
   "outputs": [
    {
     "data": {
      "text/plain": [
       "254150.0"
      ]
     },
     "execution_count": 221,
     "metadata": {},
     "output_type": "execute_result"
    }
   ],
   "source": [
    "a = np.percentile(data_top4['salary_in_usd'], 75) + 1.5 * irt\n",
    "a"
   ]
  },
  {
   "cell_type": "markdown",
   "id": "1a70bca8",
   "metadata": {},
   "source": [
    "Определили верхнюю границу, теперь взглянем, что за три таких значения."
   ]
  },
  {
   "cell_type": "code",
   "execution_count": 222,
   "id": "61951e48",
   "metadata": {},
   "outputs": [
    {
     "data": {
      "text/html": [
       "<div>\n",
       "<style scoped>\n",
       "    .dataframe tbody tr th:only-of-type {\n",
       "        vertical-align: middle;\n",
       "    }\n",
       "\n",
       "    .dataframe tbody tr th {\n",
       "        vertical-align: top;\n",
       "    }\n",
       "\n",
       "    .dataframe thead th {\n",
       "        text-align: right;\n",
       "    }\n",
       "</style>\n",
       "<table border=\"1\" class=\"dataframe\">\n",
       "  <thead>\n",
       "    <tr style=\"text-align: right;\">\n",
       "      <th></th>\n",
       "      <th>work_year</th>\n",
       "      <th>experience_level</th>\n",
       "      <th>employment_type</th>\n",
       "      <th>job_title</th>\n",
       "      <th>salary</th>\n",
       "      <th>salary_currency</th>\n",
       "      <th>salary_in_usd</th>\n",
       "      <th>employee_residence</th>\n",
       "      <th>remote_ratio</th>\n",
       "      <th>company_location</th>\n",
       "      <th>company_size</th>\n",
       "    </tr>\n",
       "  </thead>\n",
       "  <tbody>\n",
       "    <tr>\n",
       "      <th>63</th>\n",
       "      <td>2020</td>\n",
       "      <td>SE</td>\n",
       "      <td>FT</td>\n",
       "      <td>Data Scientist</td>\n",
       "      <td>412000</td>\n",
       "      <td>USD</td>\n",
       "      <td>412000</td>\n",
       "      <td>US</td>\n",
       "      <td>100</td>\n",
       "      <td>US</td>\n",
       "      <td>L</td>\n",
       "    </tr>\n",
       "    <tr>\n",
       "      <th>416</th>\n",
       "      <td>2022</td>\n",
       "      <td>SE</td>\n",
       "      <td>FT</td>\n",
       "      <td>Data Scientist</td>\n",
       "      <td>260000</td>\n",
       "      <td>USD</td>\n",
       "      <td>260000</td>\n",
       "      <td>US</td>\n",
       "      <td>100</td>\n",
       "      <td>US</td>\n",
       "      <td>M</td>\n",
       "    </tr>\n",
       "    <tr>\n",
       "      <th>482</th>\n",
       "      <td>2022</td>\n",
       "      <td>EX</td>\n",
       "      <td>FT</td>\n",
       "      <td>Data Engineer</td>\n",
       "      <td>324000</td>\n",
       "      <td>USD</td>\n",
       "      <td>324000</td>\n",
       "      <td>US</td>\n",
       "      <td>100</td>\n",
       "      <td>US</td>\n",
       "      <td>M</td>\n",
       "    </tr>\n",
       "  </tbody>\n",
       "</table>\n",
       "</div>"
      ],
      "text/plain": [
       "     work_year experience_level employment_type       job_title  salary  \\\n",
       "63        2020               SE              FT  Data Scientist  412000   \n",
       "416       2022               SE              FT  Data Scientist  260000   \n",
       "482       2022               EX              FT   Data Engineer  324000   \n",
       "\n",
       "    salary_currency  salary_in_usd employee_residence  remote_ratio  \\\n",
       "63              USD         412000                 US           100   \n",
       "416             USD         260000                 US           100   \n",
       "482             USD         324000                 US           100   \n",
       "\n",
       "    company_location company_size  \n",
       "63                US            L  \n",
       "416               US            M  \n",
       "482               US            M  "
      ]
     },
     "execution_count": 222,
     "metadata": {},
     "output_type": "execute_result"
    }
   ],
   "source": [
    "data_top4[data_top4['salary_in_usd'] > 254150]"
   ]
  },
  {
   "cell_type": "markdown",
   "id": "d27dfc8b",
   "metadata": {},
   "source": [
    "В целом, видя информацию по этим \"выбросам\" или точнее даже \"уникумам\", \"счастливчикам\", можно понять почему это произошло. ЧТо касается первых 2х - это датасаентисты, сеньёры, на полной удаленке, Амеркианская компания. Для первого датасаентиста в 2020году повезло получить оклад в 412к долларов и устроиться в компанию, где больше 250 человек. А вот второму не очень уже повезло в 2022 году оклад в 1,5 раза меньше, чем первому и компания уже поменьше от 50 до 250 сотрудников. \n",
    "Что касается третьего - это датаинженер в 2022 году, мастер своего дела, на удаленке в америке и в компании от 50-250.\n",
    "В целом думаю, да, это действительно уникумы и думаю их можно исключить из датасета, который будем далее исследовать."
   ]
  },
  {
   "cell_type": "code",
   "execution_count": 223,
   "id": "ea886850",
   "metadata": {},
   "outputs": [],
   "source": [
    "data_top4 = data_top4[data_top4['salary_in_usd'] <= 254150]"
   ]
  },
  {
   "cell_type": "markdown",
   "id": "61b3549a",
   "metadata": {},
   "source": [
    "Далее создадим частотную таблицу в зависимости от года по нашим топ4, используя комбинацию методов groupby и value_counts. С помощью метода unstack немного \"переиндексируем\" нашу таблицу, чтобы можно было найти пересечение количества нужной роли и года. А затем строим простенькую гистограмму с помощью plot(kind='bar')."
   ]
  },
  {
   "cell_type": "code",
   "execution_count": 224,
   "id": "39abe466",
   "metadata": {},
   "outputs": [
    {
     "data": {
      "text/html": [
       "<div>\n",
       "<style scoped>\n",
       "    .dataframe tbody tr th:only-of-type {\n",
       "        vertical-align: middle;\n",
       "    }\n",
       "\n",
       "    .dataframe tbody tr th {\n",
       "        vertical-align: top;\n",
       "    }\n",
       "\n",
       "    .dataframe thead th {\n",
       "        text-align: right;\n",
       "    }\n",
       "</style>\n",
       "<table border=\"1\" class=\"dataframe\">\n",
       "  <thead>\n",
       "    <tr style=\"text-align: right;\">\n",
       "      <th>job_title</th>\n",
       "      <th>Data Analyst</th>\n",
       "      <th>Data Engineer</th>\n",
       "      <th>Data Scientist</th>\n",
       "      <th>Machine Learning Engineer</th>\n",
       "    </tr>\n",
       "    <tr>\n",
       "      <th>work_year</th>\n",
       "      <th></th>\n",
       "      <th></th>\n",
       "      <th></th>\n",
       "      <th></th>\n",
       "    </tr>\n",
       "  </thead>\n",
       "  <tbody>\n",
       "    <tr>\n",
       "      <th>2020</th>\n",
       "      <td>7</td>\n",
       "      <td>11</td>\n",
       "      <td>20</td>\n",
       "      <td>5</td>\n",
       "    </tr>\n",
       "    <tr>\n",
       "      <th>2021</th>\n",
       "      <td>17</td>\n",
       "      <td>32</td>\n",
       "      <td>45</td>\n",
       "      <td>18</td>\n",
       "    </tr>\n",
       "    <tr>\n",
       "      <th>2022</th>\n",
       "      <td>73</td>\n",
       "      <td>88</td>\n",
       "      <td>76</td>\n",
       "      <td>18</td>\n",
       "    </tr>\n",
       "  </tbody>\n",
       "</table>\n",
       "</div>"
      ],
      "text/plain": [
       "job_title  Data Analyst  Data Engineer  Data Scientist  \\\n",
       "work_year                                                \n",
       "2020                  7             11              20   \n",
       "2021                 17             32              45   \n",
       "2022                 73             88              76   \n",
       "\n",
       "job_title  Machine Learning Engineer  \n",
       "work_year                             \n",
       "2020                               5  \n",
       "2021                              18  \n",
       "2022                              18  "
      ]
     },
     "metadata": {},
     "output_type": "display_data"
    },
    {
     "data": {
      "text/plain": [
       "<AxesSubplot:title={'center':'Количество предложений по топ ролям в год'}, xlabel='work_year'>"
      ]
     },
     "execution_count": 224,
     "metadata": {},
     "output_type": "execute_result"
    },
    {
     "data": {
      "image/png": "[encoded data removed]",
      "text/plain": [
       "<Figure size 432x288 with 1 Axes>"
      ]
     },
     "metadata": {
      "needs_background": "light"
     },
     "output_type": "display_data"
    }
   ],
   "source": [
    "data_top4_sorted = data_top4.groupby('work_year')['job_title'].value_counts().unstack()\n",
    "display(data_top4_sorted)\n",
    "\n",
    "data_top4_sorted.plot(kind='bar', title='Количество предложений по топ ролям в год')"
   ]
  },
  {
   "cell_type": "markdown",
   "id": "bc94c8ef",
   "metadata": {},
   "source": [
    "По данной столбчатой диаграмме видим, как увеличилось количество предложений по каждой из выбранных ролей. Если только в 2020 году общее число по топ4 ролям не превышало в сумме 44 позиций, то уже в 2022 году, повились явные 3 лидера, по каждому из которых уже было по 70+ предложений. И если лидером 20 и 21 годов была роль Data Scientist, то в 22 первенство, с достатчно хорошим отрывом, взяла роль Data Engineer."
   ]
  },
  {
   "cell_type": "markdown",
   "id": "15b7e57f",
   "metadata": {},
   "source": [
    "Ради интереса рассчитаем во сколько раз увеличилось количество предложений по ролям из топ 4 в 2022 году по сравнению с 2020 годом."
   ]
  },
  {
   "cell_type": "code",
   "execution_count": 225,
   "id": "698c4ccd",
   "metadata": {},
   "outputs": [
    {
     "data": {
      "text/html": [
       "<div>\n",
       "<style scoped>\n",
       "    .dataframe tbody tr th:only-of-type {\n",
       "        vertical-align: middle;\n",
       "    }\n",
       "\n",
       "    .dataframe tbody tr th {\n",
       "        vertical-align: top;\n",
       "    }\n",
       "\n",
       "    .dataframe thead th {\n",
       "        text-align: right;\n",
       "    }\n",
       "</style>\n",
       "<table border=\"1\" class=\"dataframe\">\n",
       "  <thead>\n",
       "    <tr style=\"text-align: right;\">\n",
       "      <th>job_title</th>\n",
       "      <th>Data Analyst</th>\n",
       "      <th>Data Engineer</th>\n",
       "      <th>Data Scientist</th>\n",
       "      <th>Machine Learning Engineer</th>\n",
       "      <th>summ</th>\n",
       "    </tr>\n",
       "    <tr>\n",
       "      <th>work_year</th>\n",
       "      <th></th>\n",
       "      <th></th>\n",
       "      <th></th>\n",
       "      <th></th>\n",
       "      <th></th>\n",
       "    </tr>\n",
       "  </thead>\n",
       "  <tbody>\n",
       "    <tr>\n",
       "      <th>2020</th>\n",
       "      <td>7</td>\n",
       "      <td>11</td>\n",
       "      <td>20</td>\n",
       "      <td>5</td>\n",
       "      <td>43</td>\n",
       "    </tr>\n",
       "    <tr>\n",
       "      <th>2021</th>\n",
       "      <td>17</td>\n",
       "      <td>32</td>\n",
       "      <td>45</td>\n",
       "      <td>18</td>\n",
       "      <td>112</td>\n",
       "    </tr>\n",
       "    <tr>\n",
       "      <th>2022</th>\n",
       "      <td>73</td>\n",
       "      <td>88</td>\n",
       "      <td>76</td>\n",
       "      <td>18</td>\n",
       "      <td>255</td>\n",
       "    </tr>\n",
       "  </tbody>\n",
       "</table>\n",
       "</div>"
      ],
      "text/plain": [
       "job_title  Data Analyst  Data Engineer  Data Scientist  \\\n",
       "work_year                                                \n",
       "2020                  7             11              20   \n",
       "2021                 17             32              45   \n",
       "2022                 73             88              76   \n",
       "\n",
       "job_title  Machine Learning Engineer  summ  \n",
       "work_year                                   \n",
       "2020                               5    43  \n",
       "2021                              18   112  \n",
       "2022                              18   255  "
      ]
     },
     "metadata": {},
     "output_type": "display_data"
    },
    {
     "data": {
      "text/plain": [
       "10"
      ]
     },
     "metadata": {},
     "output_type": "display_data"
    },
    {
     "data": {
      "text/plain": [
       "8"
      ]
     },
     "metadata": {},
     "output_type": "display_data"
    },
    {
     "data": {
      "text/plain": [
       "4"
      ]
     },
     "metadata": {},
     "output_type": "display_data"
    },
    {
     "data": {
      "text/plain": [
       "4"
      ]
     },
     "metadata": {},
     "output_type": "display_data"
    },
    {
     "data": {
      "text/plain": [
       "6"
      ]
     },
     "metadata": {},
     "output_type": "display_data"
    }
   ],
   "source": [
    "# Добавим новыю колонку - сумма всех ролей топ4 в указанный год\n",
    "data_top4_sorted['summ'] = data_top4_sorted[['Data Scientist','Data Engineer',\n",
    "                                            'Data Analyst', 'Machine Learning Engineer']].sum(axis=1)\n",
    "display(data_top4_sorted)\n",
    "# рассчитаем все показатели: во сколько раз увеличилоськоличество предложений по DA, DS, DE, ML и округлим\n",
    "da = round(data_top4_sorted.iloc[2]['Data Analyst'] / data_top4_sorted.iloc[0]['Data Analyst'])\n",
    "de = round(data_top4_sorted.iloc[2]['Data Engineer'] / data_top4_sorted.iloc[0]['Data Engineer'])\n",
    "ds = round(data_top4_sorted.iloc[2]['Data Scientist'] / data_top4_sorted.iloc[0]['Data Scientist'])\n",
    "ml = round(data_top4_sorted.iloc[2]['Machine Learning Engineer'] / data_top4_sorted.iloc[0]\n",
    "           ['Machine Learning Engineer'])\n",
    "sm = round(data_top4_sorted.iloc[2]['summ'] / data_top4_sorted.iloc[0]['summ'])\n",
    "display(da, de, ds, ml, sm)"
   ]
  },
  {
   "cell_type": "markdown",
   "id": "14f02aa8",
   "metadata": {},
   "source": [
    "Из полученной гистограммы можно увидеть несколько интересных моментов:\n",
    "1. Мы видим существенное увеличение количества специалистов в 2022 году по сравнению с 2020 годом, абсолютно по всем ролям из топ4\n",
    "    1. Общее количество вакансий из топ4 увеличилось примерно в 6 раз\n",
    "    2. Количество предложений по дата аналитикам увеличлось примерно в 10 раз\n",
    "    3. Количество предложений по дата инженерам увеличлось примерно в 8 раз\n",
    "    4. Количество предложений по дата саентистам увеличлось примерно в 4 раза\n",
    "    5. Количество предложений по ML-инженерам увеличлось примерно в 4 раза\n",
    "2. Роль дата саентистов в 2022 уступила свое первое место дата инженерам\n",
    "3. Потребность в специалистах по машшинному обучению была одинаковой в 21 и 22 годах"
   ]
  },
  {
   "cell_type": "markdown",
   "id": "6883647f",
   "metadata": {},
   "source": [
    "Посчитаем какой процент занимают наши топ 4 из общего количества вакансий, ради интереса."
   ]
  },
  {
   "cell_type": "code",
   "execution_count": 226,
   "id": "dfb6dfc2",
   "metadata": {},
   "outputs": [
    {
     "data": {
      "text/plain": [
       "67.54530477759472"
      ]
     },
     "execution_count": 226,
     "metadata": {},
     "output_type": "execute_result"
    }
   ],
   "source": [
    "data_top4.shape[0] / data.shape[0] * 100"
   ]
  },
  {
   "cell_type": "markdown",
   "id": "ba3ace9d",
   "metadata": {},
   "source": [
    "68% из всех имеющихся в датасете ролей составляют наши топ 4. Есть предположение исходя из показателей топ4 за 22 год, что сфера ДС стала сильно масштабироваться и из отдельных ключевых навыков датасаентиста и стали рождаться новые роли, то есть ролей из оставшихся 32% должны прийтись на 22 год. Проверим"
   ]
  },
  {
   "cell_type": "code",
   "execution_count": 227,
   "id": "ef6a3adc",
   "metadata": {},
   "outputs": [
    {
     "data": {
      "text/plain": [
       "work_year\n",
       "2020     28\n",
       "2021    105\n",
       "2022     61\n",
       "Name: job_title, dtype: int64"
      ]
     },
     "execution_count": 227,
     "metadata": {},
     "output_type": "execute_result"
    }
   ],
   "source": [
    "data_no_top4 = data[(data['job_title'] != 'Data Scientist') &\n",
    "                 (data['job_title'] != 'Data Engineer') &\n",
    "                (data['job_title'] != 'Data Analyst') &\n",
    "                (data['job_title'] != 'Machine Learning Engineer')]\n",
    "data_no_top4.groupby('work_year')['job_title'].count()"
   ]
  },
  {
   "cell_type": "markdown",
   "id": "8e5a83c9",
   "metadata": {},
   "source": [
    "Ну, почти верно. Видимо, тренд на дробление компетенций на новые роли произошел больше в 21 году, а уже в 22 выделились \"мэин роли\" в виде DA и DI"
   ]
  },
  {
   "cell_type": "markdown",
   "id": "a199b2a1",
   "metadata": {},
   "source": [
    "## Исследование 2"
   ]
  },
  {
   "cell_type": "markdown",
   "id": "252abce9",
   "metadata": {},
   "source": [
    "### Как изменялась зарплата в течении трех лет у ДС"
   ]
  },
  {
   "cell_type": "markdown",
   "id": "429cff76",
   "metadata": {},
   "source": [
    "В данном датасете уже есть специальнная колонка с перерасчетом зарплаты в доллар по принципу: курс валюты, разделенный на средний курс доллара США за соответствующий год через fxdata.foorilla.com. Воспользуемся этой колонкой, чтобы определить среднее значение, медианное, моду по зарплате в долларах для данной роли. И к этому всему еще докрутим учет опыта работы данного специалиста"
   ]
  },
  {
   "cell_type": "markdown",
   "id": "2ceb85ac",
   "metadata": {},
   "source": [
    "Создадим отдельный датафрейм и сгруппируем данные по опыту работы. А так же найдем среднее, медианное моду и СКО для зарплат каждого значения опыта работы."
   ]
  },
  {
   "cell_type": "code",
   "execution_count": 228,
   "id": "1ec53476",
   "metadata": {},
   "outputs": [
    {
     "data": {
      "text/html": [
       "<div>\n",
       "<style scoped>\n",
       "    .dataframe tbody tr th:only-of-type {\n",
       "        vertical-align: middle;\n",
       "    }\n",
       "\n",
       "    .dataframe tbody tr th {\n",
       "        vertical-align: top;\n",
       "    }\n",
       "\n",
       "    .dataframe thead th {\n",
       "        text-align: right;\n",
       "    }\n",
       "</style>\n",
       "<table border=\"1\" class=\"dataframe\">\n",
       "  <thead>\n",
       "    <tr style=\"text-align: right;\">\n",
       "      <th></th>\n",
       "      <th></th>\n",
       "      <th>mean</th>\n",
       "      <th>median</th>\n",
       "      <th>std</th>\n",
       "      <th>moda</th>\n",
       "    </tr>\n",
       "    <tr>\n",
       "      <th>work_year</th>\n",
       "      <th>experience_level</th>\n",
       "      <th></th>\n",
       "      <th></th>\n",
       "      <th></th>\n",
       "      <th></th>\n",
       "    </tr>\n",
       "  </thead>\n",
       "  <tbody>\n",
       "    <tr>\n",
       "      <th rowspan=\"3\" valign=\"top\">2020</th>\n",
       "      <th>EN</th>\n",
       "      <td>54983</td>\n",
       "      <td>50294</td>\n",
       "      <td>28088</td>\n",
       "      <td>51321</td>\n",
       "    </tr>\n",
       "    <tr>\n",
       "      <th>MI</th>\n",
       "      <td>71256</td>\n",
       "      <td>62726</td>\n",
       "      <td>35724</td>\n",
       "      <td>79833</td>\n",
       "    </tr>\n",
       "    <tr>\n",
       "      <th>SE</th>\n",
       "      <td>93222</td>\n",
       "      <td>91237</td>\n",
       "      <td>25843</td>\n",
       "      <td>68428</td>\n",
       "    </tr>\n",
       "    <tr>\n",
       "      <th rowspan=\"3\" valign=\"top\">2021</th>\n",
       "      <th>EN</th>\n",
       "      <td>53622</td>\n",
       "      <td>49646</td>\n",
       "      <td>34540</td>\n",
       "      <td>100000</td>\n",
       "    </tr>\n",
       "    <tr>\n",
       "      <th>MI</th>\n",
       "      <td>72145</td>\n",
       "      <td>73000</td>\n",
       "      <td>47342</td>\n",
       "      <td>90734</td>\n",
       "    </tr>\n",
       "    <tr>\n",
       "      <th>SE</th>\n",
       "      <td>91782</td>\n",
       "      <td>87738</td>\n",
       "      <td>48653</td>\n",
       "      <td>53192</td>\n",
       "    </tr>\n",
       "    <tr>\n",
       "      <th rowspan=\"3\" valign=\"top\">2022</th>\n",
       "      <th>EN</th>\n",
       "      <td>59508</td>\n",
       "      <td>52396</td>\n",
       "      <td>33529</td>\n",
       "      <td>18442</td>\n",
       "    </tr>\n",
       "    <tr>\n",
       "      <th>MI</th>\n",
       "      <td>99574</td>\n",
       "      <td>95807</td>\n",
       "      <td>47753</td>\n",
       "      <td>130000</td>\n",
       "    </tr>\n",
       "    <tr>\n",
       "      <th>SE</th>\n",
       "      <td>157900</td>\n",
       "      <td>146000</td>\n",
       "      <td>39937</td>\n",
       "      <td>140000</td>\n",
       "    </tr>\n",
       "  </tbody>\n",
       "</table>\n",
       "</div>"
      ],
      "text/plain": [
       "                              mean  median    std    moda\n",
       "work_year experience_level                               \n",
       "2020      EN                 54983   50294  28088   51321\n",
       "          MI                 71256   62726  35724   79833\n",
       "          SE                 93222   91237  25843   68428\n",
       "2021      EN                 53622   49646  34540  100000\n",
       "          MI                 72145   73000  47342   90734\n",
       "          SE                 91782   87738  48653   53192\n",
       "2022      EN                 59508   52396  33529   18442\n",
       "          MI                 99574   95807  47753  130000\n",
       "          SE                157900  146000  39937  140000"
      ]
     },
     "metadata": {},
     "output_type": "display_data"
    },
    {
     "data": {
      "image/png": "[encoded data removed]",
      "text/plain": [
       "<Figure size 432x288 with 1 Axes>"
      ]
     },
     "metadata": {
      "needs_background": "light"
     },
     "output_type": "display_data"
    },
    {
     "data": {
      "image/png": "[encoded data removed]",
      "text/plain": [
       "<Figure size 432x288 with 1 Axes>"
      ]
     },
     "metadata": {
      "needs_background": "light"
     },
     "output_type": "display_data"
    }
   ],
   "source": [
    "# Создаем датафрейм только с дата саентистами\n",
    "data_ds = data_top4[data_top4['job_title'] == 'Data Scientist']\n",
    "# создаем в отдельную функцию моду для дальнейших расчетов\n",
    "moda = lambda x: x.value_counts().index[0]\n",
    "# группируем наш датасет по годам 20-21-22 и по опыту работы и считаем среднее, медиану, СКО и моду для зп в долларах\n",
    "data_ds = data_ds.groupby(['work_year', 'experience_level'])['salary_in_usd'].agg(\n",
    "                                                            ['mean', 'median', 'std', moda]\n",
    "                                                                              )\n",
    "# округлим до целого полученные значения для небольшого удобства\n",
    "# для этого сначала округлили значения в серии, а потом методом astype, преобразовали все наши значения серии в тип целого\n",
    "# data_ds.round()\n",
    "data_ds = data_ds.apply(lambda x: round(x)).astype('int')\n",
    "\n",
    "# переименуем столбец с функцией моды <lambda_0> на \"moda\"\n",
    "data_ds.rename(columns = {'<lambda_0>' : 'moda'}, inplace = True)\n",
    "# построим две отдельные столбчатые диаграммы, чтобы удобнее было сравнивать\n",
    "data_ds.plot(y=['mean', 'median', 'std'], kind='bar', title='Средняя Медианная и СКО по зарплатам для разного опыта')\n",
    "data_ds.plot(y=['mean', 'median', 'moda'], kind='bar', title='Средняя Медианная и Мода по зарплатам для разного опыта')\n",
    "display(data_ds)"
   ]
  },
  {
   "cell_type": "markdown",
   "id": "9944b612",
   "metadata": {},
   "source": [
    "Из полученной гистаграммы мы можем наблюдать интересные штуки:\n",
    "1. В целом за последние три года для датасаентистов разного опыта медианная зарплата всегда относительно близка к среднему значению. Кроме 21 года для мидлов. Думаю это классический сценарий когда средняя немного выше, чем медианная. Но и небольшая разница тоже хороший сигнал, говорящий также о том, что в зарплатах данного специалиста не было супер \"жирного\" предложения или наоборот супер маленького. То есть распределение по зарплатам было практически симметричным без явных скосов.\n",
    "2. В 21 году для мидлов зарплатный рынок вероятно был, немного недооценен, ибо медианное значение слегка превышает среднее. Такое явление говорит нам о том, что в 21 году на позицию мидл дс могли встречаться достаточно низкие зарплатные предложения. СКО, который выше половины среднего значения, так же это подтверждает.\n",
    "3. В 2022 году по сравнению с 2020 и 2021 можно увидеть некое \"логическое стабилизирование\" рынка, когда идёт пропорциональное увеличение зарплаты в зависимости от опыта специалиста, при этом показатели среднего, медианы и СКО не дают нам сигнала о том, что есть какие-то аномалии. Даже напротив, СКО для сеньеров в 2022 году маленькое, по сравнению с предыдущим годом, это значит, что денежная оценка специалиста такого уровня приобрела более постоянный характер и вся \"зарплатная вилка\" сосредоточена рядом относительного среднего.\n",
    "5. Если смотреть на другую гистограмму где убрали среднее но добавили моду, то 2022 год для сеньеров был действительно хорошим, самое \"часто встречающаяся зп\" буквально чуть-чуть уступает медиане и среднему.\n",
    "6. А в 2022 году для джунов наоборот, \"оценка их компитенций\" была чаще всего достаточно низкой."
   ]
  },
  {
   "cell_type": "markdown",
   "id": "940c34bc",
   "metadata": {},
   "source": [
    "## Исследование 3"
   ]
  },
  {
   "cell_type": "markdown",
   "id": "27e47f34",
   "metadata": {},
   "source": [
    "### Посомтрим есть ли зависимость между средней зарплатой ДА специалиста в зависимости от опыта работы, типа занятости, страны проживания, страны компании и размеров компании"
   ]
  },
  {
   "cell_type": "code",
   "execution_count": 229,
   "id": "ffb836f8",
   "metadata": {},
   "outputs": [],
   "source": [
    "# - work_year - год выплаты зарплаты\n",
    "# - experience_level - уровень опыта работы в течение года, где EN Начальный уровень / MI Мидл / SE Сеньёр / EX Профи\n",
    "# - employment_type - Тип занятости на роль, где: PT Неполный рабочий день / FT Полный рабочий день / CT Контракт / FL Фриланс\n",
    "# - job_title\t- Точное название роли\n",
    "# - salary - Величина зарплаты (евро или доллар)\n",
    "# - salary_currency - Валюта выплачиваемой заработной платы\n",
    "# - salaryinusd - Заработная плата в долларах США (курс валюты, разделенный на средний курс доллара США за соответствующий год через fxdata.foorilla.com\n",
    "# - employee_residence - Основная страна проживания сотрудника в течение рабочего года в виде кода страны ISO 3166.\n",
    "# - remote_ratio - Общий объем удаленной работы, где: 0 Нет удаленной работы ( илименее 20%), 50 Частично удаленная работа, 100 Полностью удаленная работа (или более 80%)\n",
    "# - company_location - Страна главного офиса или филиала работодателя тоже в виде кода страны ISO 3166.\n",
    "# - company_size - Среднее количество людей, работавших в компании в течение года: S менее 50 сотрудников, M от 50 до 250 сотрудников, L более 250 сотрудников\n"
   ]
  },
  {
   "cell_type": "markdown",
   "id": "1258bf05",
   "metadata": {},
   "source": [
    "Создадим отдельный датасет для дата аналитиков"
   ]
  },
  {
   "cell_type": "code",
   "execution_count": 230,
   "id": "54d70547",
   "metadata": {},
   "outputs": [],
   "source": [
    "data_da = data_top4[data_top4['job_title'] == 'Data Analyst']"
   ]
  },
  {
   "cell_type": "markdown",
   "id": "7653f4cc",
   "metadata": {},
   "source": [
    "Сгруппируем данные по году выплаты зп, опыту работы и найдем среднюю зарплату в долларах.Затем сделаем \"подиндекс\" в виде опыта работы в качестве отдельного столбца, с помощью метода unstack и построим столбчатую диаграмму, добавим аргумент и значение \"stacked=True\", чтобы получить гистограмму не с отдельными столбцами по каждому году для каждого вида опыта работы, а в виде одного столбца, который отражает \"соотношение\" величин."
   ]
  },
  {
   "cell_type": "code",
   "execution_count": 231,
   "id": "00b404af",
   "metadata": {},
   "outputs": [
    {
     "data": {
      "text/plain": [
       "<AxesSubplot:title={'center':'Средняя зарплата аналитиков в зависимости от опыта'}, xlabel='work_year'>"
      ]
     },
     "execution_count": 231,
     "metadata": {},
     "output_type": "execute_result"
    },
    {
     "data": {
      "image/png": "[encoded data removed]",
      "text/plain": [
       "<Figure size 432x288 with 1 Axes>"
      ]
     },
     "metadata": {
      "needs_background": "light"
     },
     "output_type": "display_data"
    }
   ],
   "source": [
    "data_da.groupby(['work_year', 'experience_level'])['salary_in_usd'].mean().unstack().plot(\n",
    "    kind='bar', title='Средняя зарплата аналитиков в зависимости от опыта')"
   ]
  },
  {
   "cell_type": "markdown",
   "id": "bb00ae12",
   "metadata": {},
   "source": [
    "1. Видим, что в целом с каждым годом начиная с 2020 появлялся \"новый уровень\" по опыту. Словно на наших глазах родилась абсолютно новая профессия. В 2020 началось все с джуна и мидла, в 21м уже на сцену вышел сеньер, а в 2022 добавились в общий пул еще и эксперты.\n",
    "2. Средняя зп джунов за 3 года сильно не изменилась, зп мидлов немного скачет, то чуть поднимется, то в 22 снова снизилась. Зп сеньеров чуть увеличлась в 2022 году по сравнению с 21. Ну и логично что средняя зп \"экспертов\" занимает первое место."
   ]
  },
  {
   "cell_type": "markdown",
   "id": "04ebc184",
   "metadata": {},
   "source": [
    "Рассмотрим тоже самое но в зависимости от типа работы"
   ]
  },
  {
   "cell_type": "code",
   "execution_count": 232,
   "id": "0af32951",
   "metadata": {},
   "outputs": [
    {
     "data": {
      "text/plain": [
       "<AxesSubplot:title={'center':'Средняя зарплата аналитика в зависимости от типа занятости'}, xlabel='work_year'>"
      ]
     },
     "execution_count": 232,
     "metadata": {},
     "output_type": "execute_result"
    },
    {
     "data": {
      "image/png": "[encoded data removed]",
      "text/plain": [
       "<Figure size 432x288 with 1 Axes>"
      ]
     },
     "metadata": {
      "needs_background": "light"
     },
     "output_type": "display_data"
    }
   ],
   "source": [
    "data_da.groupby(['work_year', 'employment_type'])['salary_in_usd'].mean().unstack().plot(\n",
    "    kind='bar', title='Средняя зарплата аналитика в зависимости от типа занятости')"
   ]
  },
  {
   "cell_type": "markdown",
   "id": "42551a27",
   "metadata": {},
   "source": [
    "По данной взаимсовязи особо нечего сказать, практически 98% случаев тип занятости - полный рабочий день и зп на протяжении всех 3х лет растет. в 21 году чуток появились предложения по неполному рабочему дню, но и средняя зарплата была достаточно низка (что в целом и логично), данные виды работы вряд ли могут быть объективно между собой сопоставимы."
   ]
  },
  {
   "cell_type": "markdown",
   "id": "d07c4b31",
   "metadata": {},
   "source": [
    "Теперь посмотрим какие есть страны проживания у наших дата аналитиков за 3 года."
   ]
  },
  {
   "cell_type": "code",
   "execution_count": 233,
   "id": "08e5610e",
   "metadata": {},
   "outputs": [
    {
     "data": {
      "text/plain": [
       "US    70\n",
       "CA     9\n",
       "GB     5\n",
       "ES     3\n",
       "GR     3\n",
       "FR     2\n",
       "PK     1\n",
       "NG     1\n",
       "IN     1\n",
       "BG     1\n",
       "DE     1\n",
       "Name: employee_residence, dtype: int64"
      ]
     },
     "execution_count": 233,
     "metadata": {},
     "output_type": "execute_result"
    }
   ],
   "source": [
    "data_da['employee_residence'].value_counts()"
   ]
  },
  {
   "cell_type": "markdown",
   "id": "33b95dbd",
   "metadata": {},
   "source": [
    "Гранпри у США, потом Канада, Англия, Испания и так далее. Хочется выделить две группы и посмотреть зависимость средней зп от стран проживания сотрудников. И даже плюсом еще выделить отдельно США, группу из 2,3,4 места и оставшиеся."
   ]
  },
  {
   "cell_type": "code",
   "execution_count": 234,
   "id": "77d3d985",
   "metadata": {},
   "outputs": [
    {
     "data": {
      "text/plain": [
       "200000"
      ]
     },
     "metadata": {},
     "output_type": "display_data"
    },
    {
     "data": {
      "text/plain": [
       "130000"
      ]
     },
     "metadata": {},
     "output_type": "display_data"
    },
    {
     "data": {
      "text/plain": [
       "200000"
      ]
     },
     "metadata": {},
     "output_type": "display_data"
    },
    {
     "data": {
      "text/plain": [
       "108069.5"
      ]
     },
     "metadata": {},
     "output_type": "display_data"
    },
    {
     "data": {
      "text/plain": [
       "58599.9"
      ]
     },
     "metadata": {},
     "output_type": "display_data"
    },
    {
     "data": {
      "text/plain": [
       "92893.06185567011"
      ]
     },
     "metadata": {},
     "output_type": "display_data"
    }
   ],
   "source": [
    "usa_max = data_da[data_da['employee_residence'] == 'US']['salary_in_usd'].max()\n",
    "usa_mean = data_da[data_da['employee_residence'] == 'US']['salary_in_usd'].mean()\n",
    "\n",
    "top2_4_max = data_da[(data_da['employee_residence'] == 'CA') |\n",
    "                    (data_da['employee_residence'] == 'GB') |\n",
    "                    (data_da['employee_residence'] == 'ES') |\n",
    "                    (data_da['employee_residence'] == 'GR')]['salary_in_usd'].max()\n",
    "top2_4_mean = data_da[(data_da['employee_residence'] == 'CA') |\n",
    "                    (data_da['employee_residence'] == 'GB') |\n",
    "                    (data_da['employee_residence'] == 'ES') |\n",
    "                    (data_da['employee_residence'] == 'GR')]['salary_in_usd'].mean()\n",
    "\n",
    "cellar_max = data_da[(data_da['employee_residence'] != 'CA') |\n",
    "                    (data_da['employee_residence'] != 'GB') |\n",
    "                    (data_da['employee_residence'] != 'ES') |\n",
    "                    (data_da['employee_residence'] != 'GR') |\n",
    "                    (data_da['employee_residence'] != 'US')]['salary_in_usd'].max()\n",
    "cellar_mean = data_da[(data_da['employee_residence'] != 'CA') |\n",
    "                    (data_da['employee_residence'] != 'GB') |\n",
    "                    (data_da['employee_residence'] != 'ES') |\n",
    "                    (data_da['employee_residence'] != 'GR') |\n",
    "                    (data_da['employee_residence'] != 'US')]['salary_in_usd'].mean()\n",
    "\n",
    "display(usa_max, top2_4_max, cellar_max)\n",
    "display(usa_mean, top2_4_mean, cellar_mean)"
   ]
  },
  {
   "cell_type": "markdown",
   "id": "106a09a9",
   "metadata": {},
   "source": [
    "Ну, сказать, что специалистов из других стран ценят хуже, чем с америки однозначно не можем. Мах по зп у сша одинаковый со странами \"меньшинства\", да и средняя зп практически у них одинакова. А вот специалистов из стран топ2-4 будто меньше ценят в денежном эквиваленте."
   ]
  },
  {
   "cell_type": "markdown",
   "id": "95236b42",
   "metadata": {},
   "source": [
    "Теперь посомтрим на зависимость между средней зп и местонахождением головного офиса компании."
   ]
  },
  {
   "cell_type": "code",
   "execution_count": 235,
   "id": "619a6f9c",
   "metadata": {},
   "outputs": [
    {
     "data": {
      "text/plain": [
       "<AxesSubplot:title={'center':'Средняя зарплата аналитиков в зависимости от местонахождения компании'}, xlabel='work_year'>"
      ]
     },
     "execution_count": 235,
     "metadata": {},
     "output_type": "execute_result"
    },
    {
     "data": {
      "image/png": "[encoded data removed]",
      "text/plain": [
       "<Figure size 576x576 with 1 Axes>"
      ]
     },
     "metadata": {
      "needs_background": "light"
     },
     "output_type": "display_data"
    }
   ],
   "source": [
    "data_da.groupby(['work_year', 'company_location'])['salary_in_usd'].mean().unstack().plot(\n",
    "    kind='bar', stacked=True, figsize=(8,8), title='Средняя зарплата аналитиков в зависимости от местонахождения компании')"
   ]
  },
  {
   "cell_type": "markdown",
   "id": "ad380b2c",
   "metadata": {},
   "source": [
    "Здесь можем отметить, что первыми, кто начала анализировать данные это компании с головным офисом в СШа, конечно же, и Франция. В 2021 году на арене появились канадцы, немцы, англичане и дргуие. а в 2022 остались США, Канада, Великобритания, Испания и Греция(Оо)."
   ]
  },
  {
   "cell_type": "markdown",
   "id": "bce27312",
   "metadata": {},
   "source": [
    "Теперь посомтрим на зависимость между средней зп и размером компаний."
   ]
  },
  {
   "cell_type": "code",
   "execution_count": 236,
   "id": "51cdcab4",
   "metadata": {},
   "outputs": [
    {
     "data": {
      "text/plain": [
       "<AxesSubplot:title={'center':'Средняя зарплата аналитиков в зависимости от размера компании'}, xlabel='work_year'>"
      ]
     },
     "execution_count": 236,
     "metadata": {},
     "output_type": "execute_result"
    },
    {
     "data": {
      "image/png": "[encoded data removed]",
      "text/plain": [
       "<Figure size 432x288 with 1 Axes>"
      ]
     },
     "metadata": {
      "needs_background": "light"
     },
     "output_type": "display_data"
    }
   ],
   "source": [
    "data_da.groupby(['work_year', 'company_size'])['salary_in_usd'].mean().unstack().plot(\n",
    "    kind='bar', stacked=True, title='Средняя зарплата аналитиков в зависимости от размера компании')"
   ]
  },
  {
   "cell_type": "markdown",
   "id": "13081529",
   "metadata": {},
   "source": [
    "Как будто бы логично, что анализом данных первыми начали крупные компании, у кого было что анализировать, и мелкие компании с амбициями вероятно. Затем появились средние компании. Что и ожидаемо средняя зп у крупных компаний была выше, чем у кого-либо, но второе место у маленьких компаний. А вот в 2022 году крупные компании совсем ушли с арены, видимо максимально оставив аналитику средним и мелким компаниям на аутсорс."
   ]
  },
  {
   "cell_type": "markdown",
   "id": "775ec9d9",
   "metadata": {},
   "source": [
    "## Исследование 4"
   ]
  },
  {
   "cell_type": "markdown",
   "id": "5dd09cfb",
   "metadata": {},
   "source": [
    "### Проделаем ту же работу что и в исследоваии 3, только уже для дата инженеров."
   ]
  },
  {
   "cell_type": "markdown",
   "id": "85d42fb8",
   "metadata": {},
   "source": [
    "Так же создадим отдельный датасет для дата инженеров"
   ]
  },
  {
   "cell_type": "code",
   "execution_count": 237,
   "id": "4267716d",
   "metadata": {},
   "outputs": [],
   "source": [
    "data_di = data_top4[data_top4['job_title'] == 'Data Engineer']"
   ]
  },
  {
   "cell_type": "markdown",
   "id": "91a4f4d7",
   "metadata": {},
   "source": [
    "Сгруппируем данные по году выплаты зп, опыту работы и найдем среднюю зарплату в долларах.Затем сделаем \"подиндекс\" в виде опыта работы в качестве отдельного столбца, с помощью метода unstack и построим столбчатую диаграмму, добавим аргумент и значение \"stacked=True\", чтобы получить гистограмму не с отдельными столбцами по каждому году для каждого вида опыта работы, а в виде одного столбца, который отражает \"соотношение\" величин."
   ]
  },
  {
   "cell_type": "code",
   "execution_count": 238,
   "id": "ff4058e4",
   "metadata": {},
   "outputs": [
    {
     "data": {
      "text/plain": [
       "<AxesSubplot:title={'center':'Зависимость средней зарплата инженеров от опыта работы'}, xlabel='work_year'>"
      ]
     },
     "execution_count": 238,
     "metadata": {},
     "output_type": "execute_result"
    },
    {
     "data": {
      "image/png": "[encoded data removed]",
      "text/plain": [
       "<Figure size 432x288 with 1 Axes>"
      ]
     },
     "metadata": {
      "needs_background": "light"
     },
     "output_type": "display_data"
    }
   ],
   "source": [
    "data_di.groupby(['work_year', 'experience_level'])['salary_in_usd'].mean().unstack().plot(\n",
    "    kind='bar', title='Зависимость средней зарплата инженеров от опыта работы')"
   ]
  },
  {
   "cell_type": "markdown",
   "id": "13c28f7d",
   "metadata": {},
   "source": [
    "Выглядит так будто, роль дата инженеров в 2020 году была развита чуть посильнее уже, чем роль аналитиков. Но все так же молода, потому что средние зарплаты мидлов и сеньеров не очень то и различаются. В 2021 году ситуация становится чуть яснее и логичнее, сеньеров ценят лучше, чем мидлов и джунов потом соотвественно. А в 2022 году появляется просто супер лидер по средней зп - это эксперты."
   ]
  },
  {
   "cell_type": "markdown",
   "id": "ceb9cbd0",
   "metadata": {},
   "source": [
    "Рассмотрим как зависит оплата труда от типа работы"
   ]
  },
  {
   "cell_type": "code",
   "execution_count": 239,
   "id": "2e494319",
   "metadata": {},
   "outputs": [
    {
     "data": {
      "text/plain": [
       "<AxesSubplot:title={'center':'Зависимсоть средней зарплаты инженеров от типа занятости'}, xlabel='work_year'>"
      ]
     },
     "execution_count": 239,
     "metadata": {},
     "output_type": "execute_result"
    },
    {
     "data": {
      "image/png": "[encoded data removed]",
      "text/plain": [
       "<Figure size 432x288 with 1 Axes>"
      ]
     },
     "metadata": {
      "needs_background": "light"
     },
     "output_type": "display_data"
    }
   ],
   "source": [
    "data_di.groupby(['work_year', 'employment_type'])['salary_in_usd'].mean().unstack().plot(\n",
    "    kind='bar', title='Зависимсоть средней зарплаты инженеров от типа занятости')"
   ]
  },
  {
   "cell_type": "markdown",
   "id": "1f747cb8",
   "metadata": {},
   "source": [
    "В целом здесь такая же ситуация, как у аналитиков. Преобладает полная занятость, но вот в 21 году средняя зп тех, кто работает по частичной занятости почти поравнялась со средней зп тех, кто работает фултайм и даже немного вылезли фрилансеры."
   ]
  },
  {
   "cell_type": "markdown",
   "id": "fd971b26",
   "metadata": {},
   "source": [
    "Теперь посмотрим какие есть страны проживания дата инженеров за 3 года."
   ]
  },
  {
   "cell_type": "code",
   "execution_count": 240,
   "id": "b8b4b277",
   "metadata": {},
   "outputs": [
    {
     "data": {
      "text/plain": [
       "US    81\n",
       "GB    18\n",
       "ES     5\n",
       "GR     5\n",
       "DE     2\n",
       "TR     2\n",
       "FR     2\n",
       "PK     2\n",
       "IN     2\n",
       "NL     2\n",
       "RO     2\n",
       "IR     1\n",
       "HK     1\n",
       "IT     1\n",
       "JP     1\n",
       "MT     1\n",
       "AT     1\n",
       "MX     1\n",
       "PL     1\n",
       "Name: employee_residence, dtype: int64"
      ]
     },
     "execution_count": 240,
     "metadata": {},
     "output_type": "execute_result"
    }
   ],
   "source": [
    "data_di['employee_residence'].value_counts()"
   ]
  },
  {
   "cell_type": "markdown",
   "id": "9dafd986",
   "metadata": {},
   "source": [
    "И здесь тоже Америка - явный лидер. И на втором месте с относительно тоже неплохим отрывом от остальных идет Великобритания."
   ]
  },
  {
   "cell_type": "markdown",
   "id": "3de2629e",
   "metadata": {},
   "source": [
    "ПОсомтрим с помощью круговой диаграммы на соотношение средней зп в зависимости от страны кандидата за 2022 год"
   ]
  },
  {
   "cell_type": "code",
   "execution_count": 241,
   "id": "cc4b29ad",
   "metadata": {},
   "outputs": [
    {
     "data": {
      "text/plain": [
       "<AxesSubplot:title={'center':'Соотношение по средней зарплате в зависимости от проживания кандидата в 2022 году'}, ylabel='salary_in_usd'>"
      ]
     },
     "execution_count": 241,
     "metadata": {},
     "output_type": "execute_result"
    },
    {
     "data": {
      "image/png": "[encoded data removed]",
      "text/plain": [
       "<Figure size 432x288 with 1 Axes>"
      ]
     },
     "metadata": {},
     "output_type": "display_data"
    }
   ],
   "source": [
    "# Выделили данные за 22 год, сгруппировали по стране проживания, и считаем среднее по зп в долларах\n",
    "data_di[data_di['work_year'] == 2022].groupby('employee_residence')['salary_in_usd'].mean().plot(\n",
    "                kind='pie', # строим круговую диаграмму\n",
    "                autopct='%1.0f%%', # устанавливаем отображение в процентах\n",
    "                title='Соотношение по средней зарплате в зависимости от проживания кандидата в 2022 году') # задаем заголовок"
   ]
  },
  {
   "cell_type": "markdown",
   "id": "69a6cc58",
   "metadata": {},
   "source": [
    "Видим, что в 22 ничего не изменилось, Сша несомненный лидер даже по средней зарплате, второе место у великабритании и далее идут остальные страны."
   ]
  },
  {
   "cell_type": "markdown",
   "id": "2817a55b",
   "metadata": {},
   "source": [
    "Теперь посомтрим на зависимость между средней зп и местонахождением головного офиса компании. Сначала выделим топ 5 стран по количеству предложений. А затем для них построим стоолбчатую диаграмму, как и для аналитиков."
   ]
  },
  {
   "cell_type": "code",
   "execution_count": 242,
   "id": "4912bdb6",
   "metadata": {},
   "outputs": [
    {
     "data": {
      "text/plain": [
       "US    84\n",
       "GB    20\n",
       "GR     5\n",
       "DE     4\n",
       "ES     4\n",
       "Name: company_location, dtype: int64"
      ]
     },
     "execution_count": 242,
     "metadata": {},
     "output_type": "execute_result"
    }
   ],
   "source": [
    "data_di['company_location'].value_counts().head(5)"
   ]
  },
  {
   "cell_type": "code",
   "execution_count": 243,
   "id": "e005e928",
   "metadata": {},
   "outputs": [
    {
     "data": {
      "text/plain": [
       "<AxesSubplot:title={'center':'Зависимость средней зарплаты от местонахождения компании'}, xlabel='work_year'>"
      ]
     },
     "execution_count": 243,
     "metadata": {},
     "output_type": "execute_result"
    },
    {
     "data": {
      "image/png": "[encoded data removed]",
      "text/plain": [
       "<Figure size 576x576 with 1 Axes>"
      ]
     },
     "metadata": {
      "needs_background": "light"
     },
     "output_type": "display_data"
    }
   ],
   "source": [
    "data_di2 = data_di[(data_di['company_location'] == 'US') |\n",
    "       (data_di['company_location'] == 'GB') |\n",
    "       (data_di['company_location'] == 'GR') |\n",
    "       (data_di['company_location'] == 'DE') |\n",
    "       (data_di['company_location'] == 'ES')]\n",
    "data_di2.groupby(['work_year', 'company_location'])['salary_in_usd'].mean().unstack().plot(\n",
    "    kind='bar', stacked=True, figsize=(8,8), title='Зависимость средней зарплаты от местонахождения компании')"
   ]
  },
  {
   "cell_type": "markdown",
   "id": "c6b2c0b2",
   "metadata": {},
   "source": [
    "Как и в частотной таблице, здесь тоже видим, что штаты являются явными лидерами по средней величине зп в каждый год с 2020-2022, и на пятки старается натсупать им Великобритания."
   ]
  },
  {
   "cell_type": "markdown",
   "id": "b4a00d22",
   "metadata": {},
   "source": [
    "Посомтрим на зависимость между средней зп и размером компаний."
   ]
  },
  {
   "cell_type": "code",
   "execution_count": 244,
   "id": "34f81158",
   "metadata": {},
   "outputs": [
    {
     "data": {
      "text/plain": [
       "<AxesSubplot:title={'center':'Зависимость средней зарплаты инженеров от размера компании'}, xlabel='work_year'>"
      ]
     },
     "execution_count": 244,
     "metadata": {},
     "output_type": "execute_result"
    },
    {
     "data": {
      "image/png": "[encoded data removed]",
      "text/plain": [
       "<Figure size 432x288 with 1 Axes>"
      ]
     },
     "metadata": {
      "needs_background": "light"
     },
     "output_type": "display_data"
    }
   ],
   "source": [
    "data_di.groupby(['work_year', 'company_size'])['salary_in_usd'].mean().unstack().plot(\n",
    "    kind='bar', stacked=True, title='Зависимость средней зарплаты инженеров от размера компании')"
   ]
  },
  {
   "cell_type": "markdown",
   "id": "057d9f1f",
   "metadata": {},
   "source": [
    "Здесь уже видим, что во всех годах датасета, предложения шли от рразного уровня компаний, как и от маленьких, средних, так и от больших. Можем отметить, что средняя зарплата крупынх компаний увеличилась, в целом и средняя зарплата средних и маленьких компаний тоже. Но все же они не выше, чем у больших компаний."
   ]
  },
  {
   "cell_type": "markdown",
   "id": "41a5f737",
   "metadata": {},
   "source": [
    "## Общий вывод"
   ]
  },
  {
   "cell_type": "markdown",
   "id": "12340264",
   "metadata": {},
   "source": [
    "1. В сфере датасаенс появились явные 3 отдельные роли: аналитики, инженеры и датасаентисты остались как роль тоже. \n",
    "2. Увидел, что сфера датасаенс действительно набирает обороты по количеству предложений, по масштабированию сферы и по увеличению средней заработной платы.\n",
    "3. Выделил три суперпопулярных роли и провел исследование по ним. Да, действительно для роли датасаенс опыт работы сказывается на среднюю зп.\n",
    "4. Просматрвиается увеличение средней зп у дата аналитиков в зависимости от опыта работы сотрудника, от местонахождения компании и от величины этой компании. Но трудно сказать, что есть зависимость от типа занятости. По этому поводу можно только сказать, что средняя зарплата просто в целом увеличилась в 2022 году по сравнению с 20ым.\n",
    "5. Тоже самое просматрвиается у дата инженеров. Средняя зарпалата напрямую зависит от опыта сотрудника, от местонахождения компании и от ее масштабов. Так же тех кто работает фул тайм получает больше чем парттайм."
   ]
  },
  {
   "cell_type": "code",
   "execution_count": null,
   "id": "bbdd8888",
   "metadata": {},
   "outputs": [],
   "source": []
  }
 ],
 "metadata": {
  "direction": "ltr",
  "kernelspec": {
   "display_name": "Python 3 (ipykernel)",
   "language": "python",
   "name": "python3"
  },
  "language_info": {
   "codemirror_mode": {
    "name": "ipython",
    "version": 3
   },
   "file_extension": ".py",
   "mimetype": "text/x-python",
   "name": "python",
   "nbconvert_exporter": "python",
   "pygments_lexer": "ipython3",
   "version": "3.9.12"
  }
 },
 "nbformat": 4,
 "nbformat_minor": 5
}
